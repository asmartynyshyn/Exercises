{
 "cells": [
  {
   "cell_type": "code",
   "execution_count": 15,
   "id": "7637c31f",
   "metadata": {},
   "outputs": [
    {
     "name": "stdout",
     "output_type": "stream",
     "text": [
      "Enter number of the test cases: 6\n",
      "( )\n",
      "( x + ( y )\n",
      "{ }\n",
      "{ { 3 + 4 } }\n",
      "<B> </B>\n",
      "<B> Make this text bold </B>\n",
      "<B> </B>\n",
      "<B> Make this text bold </UB>\n",
      "[ ]\n",
      "[ [ [ UNCA ] ] ]\n",
      "fish fish2\n",
      "red fish blue fish2 green fish yellow fish2\n",
      "( x + ( y ) is not balanced\n",
      "{ { 3 + 4 } } is balanced\n",
      "<B> Make this text bold </B> is balanced\n",
      "<B> Make this text bold </UB> is not balanced\n",
      "[ [ [ UNCA ] ] ] is balanced\n",
      "red fish blue fish2 green fish yellow fish2 is balanced\n"
     ]
    }
   ],
   "source": [
    "def represents_int(s):\n",
    "    try: \n",
    "        int(s)\n",
    "    except ValueError:\n",
    "        return False\n",
    "    else:\n",
    "        return True\n",
    "\n",
    "while (True):\n",
    "    numberOfCases = input(\"Enter number of the test cases: \");\n",
    "    if represents_int(numberOfCases) and int(numberOfCases) > 0 and int(numberOfCases) < 101:\n",
    "        break;\n",
    "    print(\"You entered incorrect data!! Try again.\");\n",
    "    print(\"\\n\");\n",
    "\n",
    "result = [];\n",
    "    \n",
    "for i in range(int(numberOfCases)):\n",
    "    openDelimiter, closeDelimiter = input().split()\n",
    "    phrase = input()\n",
    "\n",
    "    if phrase.split().count(openDelimiter) == phrase.split().count(closeDelimiter):\n",
    "        result.append(phrase + ' is balanced')\n",
    "    else:\n",
    "        result.append(phrase + ' is not balanced')\n",
    "\n",
    "for i in range(len(result)):\n",
    "    print(result[i])"
   ]
  },
  {
   "cell_type": "code",
   "execution_count": null,
   "id": "23d25011",
   "metadata": {},
   "outputs": [],
   "source": []
  }
 ],
 "metadata": {
  "kernelspec": {
   "display_name": "Python 3 (ipykernel)",
   "language": "python",
   "name": "python3"
  },
  "language_info": {
   "codemirror_mode": {
    "name": "ipython",
    "version": 3
   },
   "file_extension": ".py",
   "mimetype": "text/x-python",
   "name": "python",
   "nbconvert_exporter": "python",
   "pygments_lexer": "ipython3",
   "version": "3.9.12"
  }
 },
 "nbformat": 4,
 "nbformat_minor": 5
}

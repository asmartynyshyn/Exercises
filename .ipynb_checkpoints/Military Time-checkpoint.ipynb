{
 "cells": [
  {
   "cell_type": "code",
   "execution_count": 40,
   "id": "b1fc8069",
   "metadata": {},
   "outputs": [
    {
     "name": "stdout",
     "output_type": "stream",
     "text": [
      "Enter number of the test cases: 5\n",
      "Example entered time is 0000 1159\n",
      "\n",
      "\n",
      "0900 1730\n",
      "1730 0900\n",
      "0030 0031\n",
      "0031 0030\n",
      "1231 1430\n",
      "8 hours 30 minutes\n",
      "15 hours 30 minutes\n",
      "0 hours 01 minutes\n",
      "23 hours 59 minutes\n",
      "1 hours 59 minutes\n"
     ]
    }
   ],
   "source": [
    "import datetime\n",
    "\n",
    "def represents_int(s):\n",
    "    try: \n",
    "        int(s)\n",
    "    except ValueError:\n",
    "        return False\n",
    "    else:\n",
    "        return True\n",
    "\n",
    "while (True):\n",
    "    numberOfCases = input(\"Enter number of the test cases: \");\n",
    "    if represents_int(numberOfCases):\n",
    "        break;\n",
    "    print(\"You entered incorrect data!! Try again.\");\n",
    "    print(\"\\n\");\n",
    "    \n",
    "print(\"Example entered time is 0000 1159\");\n",
    "print(\"\\n\");\n",
    "\n",
    "result = [];\n",
    "\n",
    "for i in range(int(numberOfCases)):\n",
    "    firstTime, secondTime = input().split();\n",
    "    while (True):\n",
    "        if (\n",
    "            represents_int(firstTime)\n",
    "            and len(firstTime) == 4 \n",
    "            and (int(firstTime[0:2]) >= 0 and int(firstTime[0:2]) < 24)\n",
    "            and (int(firstTime[2:]) >= 0 and int(firstTime[2:]) < 60)\n",
    "            and represents_int(secondTime)\n",
    "            and len(secondTime) == 4\n",
    "            and (int(secondTime[0:2]) >= 0 and int(secondTime[0:2]) < 24)\n",
    "            and (int(secondTime[2:]) >= 0 and int(secondTime[2:]) < 60)\n",
    "           ):\n",
    "            break;\n",
    "        else:\n",
    "            print(\"You entered incorrect data. Try again.\")\n",
    "            firstTime, secondTime = input().split();\n",
    "\n",
    "    firstTime = datetime.datetime.strptime(firstTime[0:2] + ':' + firstTime[2:], '%H:%M')\n",
    "    secondTime = datetime.datetime.strptime(secondTime[0:2] + ':' + secondTime[2:], '%H:%M')\n",
    "\n",
    "    result.append(str(secondTime - firstTime)[-8:-3])\n",
    "\n",
    "for i in range(len(result)):\n",
    "    print(result[i].split(':')[0] + ' hours ' + result[i].split(':')[1] + ' minutes');\n"
   ]
  },
  {
   "cell_type": "code",
   "execution_count": null,
   "id": "20d374fc",
   "metadata": {},
   "outputs": [],
   "source": []
  }
 ],
 "metadata": {
  "kernelspec": {
   "display_name": "Python 3 (ipykernel)",
   "language": "python",
   "name": "python3"
  },
  "language_info": {
   "codemirror_mode": {
    "name": "ipython",
    "version": 3
   },
   "file_extension": ".py",
   "mimetype": "text/x-python",
   "name": "python",
   "nbconvert_exporter": "python",
   "pygments_lexer": "ipython3",
   "version": "3.9.12"
  }
 },
 "nbformat": 4,
 "nbformat_minor": 5
}

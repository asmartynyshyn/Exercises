{
 "cells": [
  {
   "cell_type": "code",
   "execution_count": 25,
   "id": "ee7b2d80",
   "metadata": {},
   "outputs": [
    {
     "name": "stdout",
     "output_type": "stream",
     "text": [
      "Enter number of the test cases: 3\n",
      "Model 70 wool 6 0\n",
      "Model 97 velvet 7 1/2\n",
      "Model 86 straw 6 5/8\n",
      "Model 70 $84.38\n",
      "Model 97 $59.01\n",
      "Model 86 $72.56\n"
     ]
    }
   ],
   "source": [
    "from fractions import Fraction\n",
    "\n",
    "def represents_int(s):\n",
    "    try: \n",
    "        int(s)\n",
    "    except ValueError:\n",
    "        return False\n",
    "    else:\n",
    "        return True\n",
    "\n",
    "while (True):\n",
    "    numberOfCases = input(\"Enter number of the test cases: \");\n",
    "    if represents_int(numberOfCases) and int(numberOfCases)>0:\n",
    "        break;\n",
    "    print(\"You entered incorrect data!! Try again.\");\n",
    "    print(\"\\n\");\n",
    "\n",
    "result = [];\n",
    "    \n",
    "for i in range(int(numberOfCases)):\n",
    "    number, material, size, fraction = input(\"Model \").split()\n",
    "\n",
    "    fraction = Fraction(fraction)\n",
    "    size = float(size) + float(fraction)\n",
    "\n",
    "    pi = 3.14\n",
    "    price = 0;\n",
    "\n",
    "    if material == \"velvet\":\n",
    "        price = 0.25;\n",
    "    if material == \"straw\":\n",
    "        price = 0.35;\n",
    "    if material == \"wool\":\n",
    "        price = 0.45;\n",
    "    if (material != \"straw\" and material !=\"velvet\" and material !=\"wool\"):\n",
    "        price = 0;\n",
    "\n",
    "    S = (625 * size**2 + 5600 * size * pi + 2304 * pi**2) / (256 * pi);\n",
    "\n",
    "    result.append('Model ' + number + ' $' + str(round(S * price,2)));\n",
    "\n",
    "for i in range(len(result)):\n",
    "    print(result[i]);\n",
    "     \n"
   ]
  },
  {
   "cell_type": "code",
   "execution_count": null,
   "id": "053ede90",
   "metadata": {},
   "outputs": [],
   "source": []
  }
 ],
 "metadata": {
  "kernelspec": {
   "display_name": "Python 3 (ipykernel)",
   "language": "python",
   "name": "python3"
  },
  "language_info": {
   "codemirror_mode": {
    "name": "ipython",
    "version": 3
   },
   "file_extension": ".py",
   "mimetype": "text/x-python",
   "name": "python",
   "nbconvert_exporter": "python",
   "pygments_lexer": "ipython3",
   "version": "3.9.12"
  }
 },
 "nbformat": 4,
 "nbformat_minor": 5
}

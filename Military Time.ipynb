{
 "cells": [
  {
   "cell_type": "code",
   "execution_count": null,
   "id": "b1fc8069",
   "metadata": {},
   "outputs": [],
   "source": [
    "import datetime\n",
    "\n",
    "def represents_int(s):\n",
    "    try: \n",
    "        int(s)\n",
    "    except ValueError:\n",
    "        return False\n",
    "    else:\n",
    "        return True\n",
    "\n",
    "while (True):\n",
    "    numberOfCases = input(\"Enter number of the test cases: \");\n",
    "    if represents_int(numberOfCases) and int(numberOfCases)>0:\n",
    "        break;\n",
    "    print(\"You entered incorrect data!! Try again.\");\n",
    "    print(\"\\n\");\n",
    "    \n",
    "print(\"Example entered time is 0000 1159\");\n",
    "print(\"\\n\");\n",
    "\n",
    "result = [];\n",
    "\n",
    "for i in range(int(numberOfCases)):\n",
    "    firstTime, secondTime = input().split();\n",
    "    while (True):\n",
    "        if (\n",
    "            represents_int(firstTime)\n",
    "            and len(firstTime) == 4 \n",
    "            and (int(firstTime[0:2]) >= 0 and int(firstTime[0:2]) < 24)\n",
    "            and (int(firstTime[2:]) >= 0 and int(firstTime[2:]) < 60)\n",
    "            and represents_int(secondTime)\n",
    "            and len(secondTime) == 4\n",
    "            and (int(secondTime[0:2]) >= 0 and int(secondTime[0:2]) < 24)\n",
    "            and (int(secondTime[2:]) >= 0 and int(secondTime[2:]) < 60)\n",
    "           ):\n",
    "            break;\n",
    "        else:\n",
    "            print(\"You entered incorrect data. Try again.\")\n",
    "            firstTime, secondTime = input().split();\n",
    "\n",
    "    firstTime = datetime.datetime.strptime(firstTime[0:2] + ':' + firstTime[2:], '%H:%M')\n",
    "    secondTime = datetime.datetime.strptime(secondTime[0:2] + ':' + secondTime[2:], '%H:%M')\n",
    "\n",
    "    result.append(str(secondTime - firstTime)[-8:-3])\n",
    "\n",
    "for i in range(len(result)):\n",
    "    print(result[i].split(':')[0] + ' hours ' + result[i].split(':')[1] + ' minutes');\n"
   ]
  },
  {
   "cell_type": "code",
   "execution_count": null,
   "id": "c47ac3cd",
   "metadata": {},
   "outputs": [],
   "source": []
  }
 ],
 "metadata": {
  "kernelspec": {
   "display_name": "Python 3 (ipykernel)",
   "language": "python",
   "name": "python3"
  },
  "language_info": {
   "codemirror_mode": {
    "name": "ipython",
    "version": 3
   },
   "file_extension": ".py",
   "mimetype": "text/x-python",
   "name": "python",
   "nbconvert_exporter": "python",
   "pygments_lexer": "ipython3",
   "version": "3.9.12"
  }
 },
 "nbformat": 4,
 "nbformat_minor": 5
}
